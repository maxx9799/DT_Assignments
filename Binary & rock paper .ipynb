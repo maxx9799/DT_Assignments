{
 "cells": [
  {
   "cell_type": "markdown",
   "metadata": {},
   "source": [
    "## Binary search algorithm"
   ]
  },
  {
   "cell_type": "markdown",
   "metadata": {},
   "source": [
    "### Have you ever heard the proverb, “finding a needle in a haystack.” This program is designed to do just that- by using a binary search algorithm. You can create a list of random numbers between 0 to 100, with every succeeding number having a difference of 2 between them.\n",
    "### When the user inputs a random number, the program will check if that number is included in the list. It will do so by creating two halves of the list. If the program finds the number in the first half of the list, it will eliminate the other half and vice versa. The search will continue until the program finds the number input of the user or until the subarray size becomes 0 (this means that the number is not in the list). This python project idea will help you create an implement an algorithm that searches for an element in a list. \n",
    " "
   ]
  },
  {
   "cell_type": "code",
   "execution_count": 3,
   "metadata": {},
   "outputs": [],
   "source": [
    "import numpy as np\n",
    "import random \n",
    "import time"
   ]
  },
  {
   "cell_type": "code",
   "execution_count": 4,
   "metadata": {},
   "outputs": [
    {
     "name": "stdout",
     "output_type": "stream",
     "text": [
      "[2, 4, 6, 8, 10, 12, 14, 16, 18, 20, 22, 24, 26, 28, 30, 32, 34, 36, 38, 40, 42, 44, 46, 48, 50, 52, 54, 56, 58, 60, 62, 64, 66, 68, 70, 72, 74, 76, 78, 80, 82, 84, 86, 88, 90, 92, 94, 96, 98]\n"
     ]
    }
   ],
   "source": [
    "x = random.randint(1,100)\n",
    "list = []\n",
    "while x<100:\n",
    "    list.append(x)\n",
    "    x+=2\n",
    "print(list)\n",
    "    \n",
    "    "
   ]
  },
  {
   "cell_type": "code",
   "execution_count": 11,
   "metadata": {},
   "outputs": [
    {
     "data": {
      "text/plain": [
       "48"
      ]
     },
     "execution_count": 11,
     "metadata": {},
     "output_type": "execute_result"
    }
   ],
   "source": [
    "len(list)-1"
   ]
  },
  {
   "cell_type": "code",
   "execution_count": 6,
   "metadata": {},
   "outputs": [],
   "source": [
    "def binary_search(arr, low, high, x):\n",
    "    if high >= low:\n",
    "        mid = (high + low) // 2\n",
    "        if  arr[mid] == x:\n",
    "            return mid\n",
    " \n",
    "        elif arr[mid] > x:\n",
    "            return binary_search(arr, low, mid - 1, x)\n",
    "\n",
    "        else:\n",
    "            return binary_search(arr, mid + 1, high, x)\n",
    " \n",
    "    else:\n",
    "         print(f\"{x} is not in the list.. Try within the listed number \")"
   ]
  },
  {
   "cell_type": "code",
   "execution_count": null,
   "metadata": {},
   "outputs": [],
   "source": []
  },
  {
   "cell_type": "code",
   "execution_count": 9,
   "metadata": {
    "scrolled": true
   },
   "outputs": [
    {
     "data": {
      "text/plain": [
       "47"
      ]
     },
     "execution_count": 9,
     "metadata": {},
     "output_type": "execute_result"
    }
   ],
   "source": [
    "binary_search(list, 0, 48, 96)"
   ]
  },
  {
   "cell_type": "code",
   "execution_count": 10,
   "metadata": {},
   "outputs": [
    {
     "data": {
      "text/plain": [
       "47"
      ]
     },
     "execution_count": 10,
     "metadata": {},
     "output_type": "execute_result"
    }
   ],
   "source": [
    "list.index(96)"
   ]
  },
  {
   "cell_type": "markdown",
   "metadata": {},
   "source": [
    "## Rock, Paper, Scissors\n",
    "### If you are tired of having no playmate, then a 5-minute stint of rock, paper, scissors with the computer and designed by you, yourself will improve your mood.\n",
    "### We again use the random function here. You make a move first and then the program makes one. To indicate the move, you can either use a single alphabet or input an entire string. A function will have to be set up to check the validity of the move.\n",
    "### Using another function, the winner of that round is decided. You can then either give an option of playing again or decide a predetermined number of moves in advance. A scorekeeping function will also have to be created which will return the winner at the end.\n",
    " "
   ]
  },
  {
   "cell_type": "code",
   "execution_count": 12,
   "metadata": {},
   "outputs": [
    {
     "name": "stdout",
     "output_type": "stream",
     "text": [
      "Plz select 1 (rock, paper, scissors): rock\n",
      "\n",
      "You chose rock, computer chose paper.\n",
      "\n",
      "Paper covers rock! You lose.\n",
      "\n",
      "Play again? (y/n): y\n",
      "Plz select 1 (rock, paper, scissors): rock\n",
      "\n",
      "You chose rock, computer chose scissors.\n",
      "\n",
      "Rock smashes scissors! You win!\n",
      "\n",
      "Play again? (y/n): y\n",
      "Plz select 1 (rock, paper, scissors): paper\n",
      "\n",
      "You chose paper, computer chose paper.\n",
      "\n",
      "Both players selected paper. It's a tie!\n",
      "Play again? (y/n): y\n",
      "Plz select 1 (rock, paper, scissors): paper\n",
      "\n",
      "You chose paper, computer chose paper.\n",
      "\n",
      "Both players selected paper. It's a tie!\n",
      "Play again? (y/n): n\n",
      "==================================================\n",
      "Score_Board: \n",
      "User: 1\n",
      "Comp: 1\n",
      "==================================================\n",
      "\n",
      "Hope you enjoyed it...\n",
      "\n"
     ]
    }
   ],
   "source": [
    "user_s = 0\n",
    "comp_s = 0\n",
    "while True:\n",
    "    user = input(\"Plz select 1 (rock, paper, scissors): \")\n",
    "    actions = [\"rock\", \"paper\", \"scissors\"]\n",
    "    comp = random.choice(actions)\n",
    "    print(f\"\\nYou chose {user}, computer chose {comp}.\\n\")\n",
    "\n",
    "    if user == comp:\n",
    "        print(f\"Both players selected {user}. It's a tie!\")\n",
    "    elif user == \"rock\":\n",
    "        if comp == \"scissors\":\n",
    "            print(\"Rock smashes scissors! You win!\\n\")\n",
    "            user_s+=1\n",
    "        else:\n",
    "            print(\"Paper covers rock! You lose.\\n\")\n",
    "            comp_s+=1\n",
    "    elif user == \"paper\":\n",
    "        if comp == \"rock\":\n",
    "            print(\"Paper covers rock! You win!\\n\")\n",
    "            user_s+=1\n",
    "        else:\n",
    "            print(\"Scissors cuts paper! You lose.\\n\")\n",
    "            comp_s+=1\n",
    "    elif user == rock\"scissors\":\n",
    "        if comp == \"paper\":\n",
    "            print(\"Scissors cuts paper! You win!\\n\")\n",
    "            user_s+=1\n",
    "        else:\n",
    "            print(\"Rock smashes scissors! You lose.\\n\")\n",
    "            comp_s+=1\n",
    "\n",
    "    play_again = input(\"Play again? (y/n): \")\n",
    "    if play_again.lower() != \"y\":\n",
    "        \n",
    "        print(\"=\"*50)\n",
    "        print(f\"Score_Board: \\nUser: {user_s}\\nComp: {comp_s}\")\n",
    "        print(\"=\"*50)\n",
    "        print(\"\\nHope you enjoyed it...\\n\")\n",
    "        break"
   ]
  },
  {
   "cell_type": "markdown",
   "metadata": {},
   "source": []
  },
  {
   "cell_type": "code",
   "execution_count": null,
   "metadata": {},
   "outputs": [],
   "source": []
  },
  {
   "cell_type": "code",
   "execution_count": null,
   "metadata": {},
   "outputs": [],
   "source": []
  }
 ],
 "metadata": {
  "kernelspec": {
   "display_name": "Python 3",
   "language": "python",
   "name": "python3"
  },
  "language_info": {
   "codemirror_mode": {
    "name": "ipython",
    "version": 3
   },
   "file_extension": ".py",
   "mimetype": "text/x-python",
   "name": "python",
   "nbconvert_exporter": "python",
   "pygments_lexer": "ipython3",
   "version": "3.8.5"
  }
 },
 "nbformat": 4,
 "nbformat_minor": 4
}

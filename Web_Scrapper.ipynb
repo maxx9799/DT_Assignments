{
 "cells": [
  {
   "cell_type": "code",
   "execution_count": 1,
   "metadata": {},
   "outputs": [],
   "source": [
    "import pandas as pd\n",
    "import numpy as np"
   ]
  },
  {
   "cell_type": "code",
   "execution_count": 2,
   "metadata": {},
   "outputs": [],
   "source": [
    "import requests\n",
    "\n",
    "URL = \"https://www.marketsandmarkets.com/telecom-and-IT-market-research-113.html\"\n",
    "page = requests.get(URL)"
   ]
  },
  {
   "cell_type": "code",
   "execution_count": 3,
   "metadata": {},
   "outputs": [],
   "source": [
    "import requests\n",
    "from bs4 import BeautifulSoup\n",
    "\n",
    "\n",
    "page = requests.get(URL)\n",
    "\n",
    "data = BeautifulSoup(page.content, 'html.parser')"
   ]
  },
  {
   "cell_type": "code",
   "execution_count": 26,
   "metadata": {},
   "outputs": [
    {
     "data": {
      "text/plain": [
       "'https://www.marketsandmarkets.com/telecom-and-IT-market-research-113.html'"
      ]
     },
     "execution_count": 26,
     "metadata": {},
     "output_type": "execute_result"
    }
   ],
   "source": [
    "URL"
   ]
  },
  {
   "cell_type": "code",
   "execution_count": 5,
   "metadata": {
    "scrolled": true
   },
   "outputs": [
    {
     "data": {
      "text/plain": [
       "50"
      ]
     },
     "execution_count": 5,
     "metadata": {},
     "output_type": "execute_result"
    }
   ],
   "source": [
    "len(report_title)"
   ]
  },
  {
   "cell_type": "code",
   "execution_count": 12,
   "metadata": {},
   "outputs": [
    {
     "data": {
      "text/plain": [
       "50"
      ]
     },
     "execution_count": 12,
     "metadata": {},
     "output_type": "execute_result"
    }
   ],
   "source": [
    "len(date_published)"
   ]
  },
  {
   "cell_type": "code",
   "execution_count": 4,
   "metadata": {},
   "outputs": [],
   "source": [
    "report_title = []\n",
    "for i in data.find_all(\"table\", attrs={\"class\" : \"reportTbl\"}):\n",
    "    for j in i.select(\"h3\"):\n",
    "        report_title.append(j.text)\n",
    "    "
   ]
  },
  {
   "cell_type": "code",
   "execution_count": 5,
   "metadata": {},
   "outputs": [],
   "source": [
    "date_published=[]\n",
    "date = []\n",
    "for i in data.find_all(\"td\", attrs={\"class\" : \"displaynone\"}):\n",
    "    m = (i.text).split()\n",
    "    j = [3*i for i in range(50)]\n",
    "    date.append(m)\n",
    "    "
   ]
  },
  {
   "cell_type": "code",
   "execution_count": 6,
   "metadata": {},
   "outputs": [],
   "source": [
    "for i in j:\n",
    "    k = \" \".join(date[i])\n",
    "    date_published.append(k)\n",
    "    "
   ]
  },
  {
   "cell_type": "code",
   "execution_count": 11,
   "metadata": {
    "scrolled": true
   },
   "outputs": [
    {
     "data": {
      "text/plain": [
       "['March 2021',\n",
       " 'March 2021',\n",
       " 'March 2021',\n",
       " 'March 2021',\n",
       " 'March 2021',\n",
       " 'March 2021',\n",
       " 'March 2021',\n",
       " 'March 2021',\n",
       " 'March 2021',\n",
       " 'March 2021',\n",
       " 'March 2021',\n",
       " 'March 2021',\n",
       " 'February 2021',\n",
       " 'February 2021',\n",
       " 'February 2021',\n",
       " 'February 2021',\n",
       " 'February 2021',\n",
       " 'February 2021',\n",
       " 'February 2021',\n",
       " 'February 2021',\n",
       " 'February 2021',\n",
       " 'February 2021',\n",
       " 'February 2021',\n",
       " 'February 2021',\n",
       " 'February 2021',\n",
       " 'February 2021',\n",
       " 'February 2021',\n",
       " 'February 2021',\n",
       " 'February 2021',\n",
       " 'February 2021',\n",
       " 'February 2021',\n",
       " 'February 2021',\n",
       " 'February 2021',\n",
       " 'February 2021',\n",
       " 'January 2021',\n",
       " 'January 2021',\n",
       " 'January 2021',\n",
       " 'January 2021',\n",
       " 'January 2021',\n",
       " 'January 2021',\n",
       " 'January 2021',\n",
       " 'January 2021',\n",
       " 'January 2021',\n",
       " 'January 2021',\n",
       " 'January 2021',\n",
       " 'January 2021',\n",
       " 'January 2021',\n",
       " 'January 2021',\n",
       " 'December 2020',\n",
       " 'December 2020']"
      ]
     },
     "execution_count": 11,
     "metadata": {},
     "output_type": "execute_result"
    }
   ],
   "source": [
    "date_published"
   ]
  },
  {
   "cell_type": "code",
   "execution_count": null,
   "metadata": {},
   "outputs": [],
   "source": []
  },
  {
   "cell_type": "code",
   "execution_count": 12,
   "metadata": {},
   "outputs": [
    {
     "data": {
      "text/plain": [
       "50"
      ]
     },
     "execution_count": 12,
     "metadata": {},
     "output_type": "execute_result"
    }
   ],
   "source": [
    "len(report_description)"
   ]
  },
  {
   "cell_type": "code",
   "execution_count": null,
   "metadata": {
    "scrolled": true
   },
   "outputs": [],
   "source": []
  },
  {
   "cell_type": "code",
   "execution_count": 11,
   "metadata": {},
   "outputs": [],
   "source": [
    "report_description = []\n",
    "for i in data.find_all(\"table\", attrs={\"class\" : \"reportTbl\"}):\n",
    "    for j in i.select(\"p\"):\n",
    "        d = j.text\n",
    "        report_description.append(d)\n",
    "    "
   ]
  },
  {
   "cell_type": "code",
   "execution_count": null,
   "metadata": {},
   "outputs": [],
   "source": [
    "Extract/ match/ find the first occurrence of ‘USD ’values and string containing % values in\n",
    "the report description.\n",
    "(EG: Ideal Output= USD 590 million, 20.8%)"
   ]
  },
  {
   "cell_type": "code",
   "execution_count": 14,
   "metadata": {},
   "outputs": [],
   "source": [
    "a = pd.DataFrame({\"link\":link_})\n",
    "b =pd.DataFrame({\"Title\":report_title})\n",
    "c =pd.DataFrame({\"Desc\":report_description})\n",
    "d =pd.DataFrame({\"Date\":date_published})\n",
    "e =pd.DataFrame({\"USD Values\":USD_values})"
   ]
  },
  {
   "cell_type": "code",
   "execution_count": 48,
   "metadata": {},
   "outputs": [],
   "source": []
  },
  {
   "cell_type": "code",
   "execution_count": 16,
   "metadata": {},
   "outputs": [
    {
     "data": {
      "text/html": [
       "<div>\n",
       "<style scoped>\n",
       "    .dataframe tbody tr th:only-of-type {\n",
       "        vertical-align: middle;\n",
       "    }\n",
       "\n",
       "    .dataframe tbody tr th {\n",
       "        vertical-align: top;\n",
       "    }\n",
       "\n",
       "    .dataframe thead th {\n",
       "        text-align: right;\n",
       "    }\n",
       "</style>\n",
       "<table border=\"1\" class=\"dataframe\">\n",
       "  <thead>\n",
       "    <tr style=\"text-align: right;\">\n",
       "      <th></th>\n",
       "      <th>link</th>\n",
       "      <th>Title</th>\n",
       "      <th>Desc</th>\n",
       "      <th>Date</th>\n",
       "      <th>USD Values</th>\n",
       "    </tr>\n",
       "  </thead>\n",
       "  <tbody>\n",
       "    <tr>\n",
       "      <th>0</th>\n",
       "      <td>www.marketsandmarkets.com/Market-Reports/smart...</td>\n",
       "      <td>NaN</td>\n",
       "      <td>NaN</td>\n",
       "      <td>NaN</td>\n",
       "      <td>NaN</td>\n",
       "    </tr>\n",
       "    <tr>\n",
       "      <th>1</th>\n",
       "      <td>www.marketsandmarkets.com/Market-Reports/logis...</td>\n",
       "      <td>NaN</td>\n",
       "      <td>NaN</td>\n",
       "      <td>NaN</td>\n",
       "      <td>NaN</td>\n",
       "    </tr>\n",
       "    <tr>\n",
       "      <th>2</th>\n",
       "      <td>www.marketsandmarkets.com/Market-Reports/green...</td>\n",
       "      <td>NaN</td>\n",
       "      <td>NaN</td>\n",
       "      <td>NaN</td>\n",
       "      <td>NaN</td>\n",
       "    </tr>\n",
       "    <tr>\n",
       "      <th>3</th>\n",
       "      <td>www.marketsandmarkets.com/Market-Reports/ai-go...</td>\n",
       "      <td>NaN</td>\n",
       "      <td>NaN</td>\n",
       "      <td>NaN</td>\n",
       "      <td>NaN</td>\n",
       "    </tr>\n",
       "    <tr>\n",
       "      <th>4</th>\n",
       "      <td>www.marketsandmarkets.com/Market-Reports/simul...</td>\n",
       "      <td>NaN</td>\n",
       "      <td>NaN</td>\n",
       "      <td>NaN</td>\n",
       "      <td>NaN</td>\n",
       "    </tr>\n",
       "    <tr>\n",
       "      <th>...</th>\n",
       "      <td>...</td>\n",
       "      <td>...</td>\n",
       "      <td>...</td>\n",
       "      <td>...</td>\n",
       "      <td>...</td>\n",
       "    </tr>\n",
       "    <tr>\n",
       "      <th>245</th>\n",
       "      <td>NaN</td>\n",
       "      <td>NaN</td>\n",
       "      <td>NaN</td>\n",
       "      <td>NaN</td>\n",
       "      <td>USD 66.3 billion</td>\n",
       "    </tr>\n",
       "    <tr>\n",
       "      <th>246</th>\n",
       "      <td>NaN</td>\n",
       "      <td>NaN</td>\n",
       "      <td>NaN</td>\n",
       "      <td>NaN</td>\n",
       "      <td>USD 9,497 million</td>\n",
       "    </tr>\n",
       "    <tr>\n",
       "      <th>247</th>\n",
       "      <td>NaN</td>\n",
       "      <td>NaN</td>\n",
       "      <td>NaN</td>\n",
       "      <td>NaN</td>\n",
       "      <td>USD 0.8 billion</td>\n",
       "    </tr>\n",
       "    <tr>\n",
       "      <th>248</th>\n",
       "      <td>NaN</td>\n",
       "      <td>NaN</td>\n",
       "      <td>NaN</td>\n",
       "      <td>NaN</td>\n",
       "      <td>USD 9.0 billion</td>\n",
       "    </tr>\n",
       "    <tr>\n",
       "      <th>249</th>\n",
       "      <td>NaN</td>\n",
       "      <td>NaN</td>\n",
       "      <td>NaN</td>\n",
       "      <td>NaN</td>\n",
       "      <td>USD 6.0 billion</td>\n",
       "    </tr>\n",
       "  </tbody>\n",
       "</table>\n",
       "<p>250 rows × 5 columns</p>\n",
       "</div>"
      ],
      "text/plain": [
       "                                                  link Title Desc Date  \\\n",
       "0    www.marketsandmarkets.com/Market-Reports/smart...   NaN  NaN  NaN   \n",
       "1    www.marketsandmarkets.com/Market-Reports/logis...   NaN  NaN  NaN   \n",
       "2    www.marketsandmarkets.com/Market-Reports/green...   NaN  NaN  NaN   \n",
       "3    www.marketsandmarkets.com/Market-Reports/ai-go...   NaN  NaN  NaN   \n",
       "4    www.marketsandmarkets.com/Market-Reports/simul...   NaN  NaN  NaN   \n",
       "..                                                 ...   ...  ...  ...   \n",
       "245                                                NaN   NaN  NaN  NaN   \n",
       "246                                                NaN   NaN  NaN  NaN   \n",
       "247                                                NaN   NaN  NaN  NaN   \n",
       "248                                                NaN   NaN  NaN  NaN   \n",
       "249                                                NaN   NaN  NaN  NaN   \n",
       "\n",
       "            USD Values  \n",
       "0                  NaN  \n",
       "1                  NaN  \n",
       "2                  NaN  \n",
       "3                  NaN  \n",
       "4                  NaN  \n",
       "..                 ...  \n",
       "245   USD 66.3 billion  \n",
       "246  USD 9,497 million  \n",
       "247    USD 0.8 billion  \n",
       "248    USD 9.0 billion  \n",
       "249    USD 6.0 billion  \n",
       "\n",
       "[250 rows x 5 columns]"
      ]
     },
     "execution_count": 16,
     "metadata": {},
     "output_type": "execute_result"
    }
   ],
   "source": [
    "pd.concat([a,b,c,d,e], ignore_index=True)"
   ]
  },
  {
   "cell_type": "code",
   "execution_count": 55,
   "metadata": {},
   "outputs": [
    {
     "data": {
      "text/plain": [
       "50"
      ]
     },
     "execution_count": 55,
     "metadata": {},
     "output_type": "execute_result"
    }
   ],
   "source": [
    "len(USD_values)"
   ]
  },
  {
   "cell_type": "code",
   "execution_count": 13,
   "metadata": {},
   "outputs": [],
   "source": [
    "USD_values=[]\n",
    "c=0\n",
    "while c<len(report_description):\n",
    "    d = report_description[c].split()\n",
    "    if \"USD\" in d:\n",
    "        u = d.index(\"USD\")\n",
    "        s = d[u:u+3]\n",
    "        t = \" \".join(s)\n",
    "        \n",
    "    USD_values.append(t)\n",
    "    \n",
    "    c+=1"
   ]
  },
  {
   "cell_type": "code",
   "execution_count": 231,
   "metadata": {},
   "outputs": [
    {
     "ename": "NameError",
     "evalue": "name 'x' is not defined",
     "output_type": "error",
     "traceback": [
      "\u001b[1;31m---------------------------------------------------------------------------\u001b[0m",
      "\u001b[1;31mNameError\u001b[0m                                 Traceback (most recent call last)",
      "\u001b[1;32m<ipython-input-231-8860bc310a33>\u001b[0m in \u001b[0;36m<module>\u001b[1;34m\u001b[0m\n\u001b[0;32m     10\u001b[0m         \u001b[1;32mpass\u001b[0m\u001b[1;33m\u001b[0m\u001b[1;33m\u001b[0m\u001b[0m\n\u001b[0;32m     11\u001b[0m \u001b[1;33m\u001b[0m\u001b[0m\n\u001b[1;32m---> 12\u001b[1;33m     \u001b[0mval\u001b[0m\u001b[1;33m.\u001b[0m\u001b[0mappend\u001b[0m\u001b[1;33m(\u001b[0m\u001b[0mx\u001b[0m\u001b[1;33m)\u001b[0m\u001b[1;33m\u001b[0m\u001b[1;33m\u001b[0m\u001b[0m\n\u001b[0m\u001b[0;32m     13\u001b[0m \u001b[1;33m\u001b[0m\u001b[0m\n\u001b[0;32m     14\u001b[0m     \u001b[0mc\u001b[0m\u001b[1;33m+=\u001b[0m\u001b[1;36m1\u001b[0m\u001b[1;33m\u001b[0m\u001b[1;33m\u001b[0m\u001b[0m\n",
      "\u001b[1;31mNameError\u001b[0m: name 'x' is not defined"
     ]
    }
   ],
   "source": [
    "val=[]\n",
    "c=0\n",
    "while c<len(Description):\n",
    "    b = Description[c].split()\n",
    "    if \"%\" in b:\n",
    "        v = b.index(\"%\")\n",
    "        w = b[v:v+3]\n",
    "        x = \" \".join(w)\n",
    "    else:\n",
    "        pass\n",
    "    \n",
    "    val.append(x)\n",
    "    \n",
    "    c+=1"
   ]
  },
  {
   "cell_type": "code",
   "execution_count": null,
   "metadata": {
    "scrolled": true
   },
   "outputs": [],
   "source": []
  },
  {
   "cell_type": "code",
   "execution_count": 244,
   "metadata": {
    "collapsed": true
   },
   "outputs": [
    {
     "data": {
      "text/plain": [
       "['The',\n",
       " 'Logistics',\n",
       " 'Automation',\n",
       " 'Market',\n",
       " 'is',\n",
       " 'expected',\n",
       " 'to',\n",
       " 'grow',\n",
       " 'from',\n",
       " 'USD',\n",
       " '48.4',\n",
       " 'billion',\n",
       " 'in',\n",
       " '2020',\n",
       " 'to',\n",
       " 'USD',\n",
       " '88.9',\n",
       " 'billion',\n",
       " 'by',\n",
       " '2026,',\n",
       " 'at',\n",
       " 'a',\n",
       " 'CAGR',\n",
       " 'of',\n",
       " '10.6%',\n",
       " 'during',\n",
       " 'the',\n",
       " 'forecast',\n",
       " 'period.',\n",
       " 'Key',\n",
       " 'and',\n",
       " 'innovative',\n",
       " 'vendors',\n",
       " 'in',\n",
       " 'the',\n",
       " 'logistics',\n",
       " 'automation',\n",
       " 'market',\n",
       " 'include',\n",
       " '6',\n",
       " 'River',\n",
       " 'Systems',\n",
       " '(US),',\n",
       " 'ABB',\n",
       " '(Switzerland),',\n",
       " 'BEUMER',\n",
       " 'Group',\n",
       " '(Germany),',\n",
       " 'Blue',\n",
       " 'Yonder',\n",
       " '(US),',\n",
       " 'Daifuku',\n",
       " '(Japan),',\n",
       " 'Dematic',\n",
       " '(US),',\n",
       " 'E&K',\n",
       " 'Automation',\n",
       " '(Germany),',\n",
       " 'Eyesee',\n",
       " '(Hardis',\n",
       " 'Group)',\n",
       " '(France),',\n",
       " 'Falcon',\n",
       " 'Autotech',\n",
       " '(India),',\n",
       " 'GreyOrange',\n",
       " '(US),',\n",
       " 'HighJump',\n",
       " '(Korber)',\n",
       " '(US),',\n",
       " 'Honeywell',\n",
       " 'Intelligrated',\n",
       " '(US),',\n",
       " 'Jungheinrich',\n",
       " '(Germany),',\n",
       " 'Knapp',\n",
       " '(Austria),',\n",
       " 'Locus',\n",
       " 'Robotics',\n",
       " '(US),',\n",
       " 'Manhattan',\n",
       " 'Associates',\n",
       " '(US),',\n",
       " 'Murata',\n",
       " 'Machinery',\n",
       " '(Japan),',\n",
       " 'Oracle',\n",
       " '(US),',\n",
       " 'SAP',\n",
       " '(Germany),',\n",
       " 'SBS',\n",
       " 'Toshiba',\n",
       " 'Logistics',\n",
       " '(Japan),',\n",
       " 'Seegrid',\n",
       " '(US),',\n",
       " 'SSI',\n",
       " 'Schaefer',\n",
       " '(Germany),',\n",
       " 'Swisslog',\n",
       " '(Switzerland),',\n",
       " 'System',\n",
       " 'Logistics',\n",
       " '(Italy),',\n",
       " 'TGW',\n",
       " 'Logistics',\n",
       " 'Group',\n",
       " '(Austria),',\n",
       " 'and',\n",
       " 'Zebra',\n",
       " 'Technologies',\n",
       " '(US).']"
      ]
     },
     "execution_count": 244,
     "metadata": {},
     "output_type": "execute_result"
    }
   ],
   "source": [
    "Description[1].split()"
   ]
  },
  {
   "cell_type": "code",
   "execution_count": 229,
   "metadata": {
    "scrolled": true
   },
   "outputs": [
    {
     "data": {
      "text/plain": [
       "['USD 2.9 billion',\n",
       " 'USD 48.4 billion',\n",
       " 'USD 49.2 billion',\n",
       " 'USD 50 million',\n",
       " 'USD 12.7 billion',\n",
       " 'USD 9.8 billion',\n",
       " 'USD 989 million',\n",
       " 'USD 98.8 billion',\n",
       " 'USD 9.4 billion',\n",
       " 'USD 53.93 billion',\n",
       " 'USD 16.6 billion',\n",
       " 'USD 25.1 billion',\n",
       " 'USD 258 million',\n",
       " 'USD 253 million',\n",
       " 'USD 3.3 billion',\n",
       " 'USD 17.5 billion',\n",
       " 'USD 1.8 billion',\n",
       " 'USD 11.6 billion',\n",
       " 'USD 19.6 billion',\n",
       " 'USD 9.0 billion',\n",
       " 'USD 6.4 billion',\n",
       " 'USD 590 million',\n",
       " 'USD 0.5 billion',\n",
       " 'USD 580 million',\n",
       " 'USD 15.8 billion',\n",
       " 'USD 8.0 billion',\n",
       " 'USD 3.9 billion',\n",
       " 'USD 1.5 billion',\n",
       " 'USD 96.5 billion',\n",
       " 'USD 1.2 billion',\n",
       " 'USD 23.2 billion',\n",
       " 'USD 12.4 billion',\n",
       " 'USD \\x93Old\\x94 to',\n",
       " 'USD 6.2 billion',\n",
       " 'USD 1.0 billion',\n",
       " 'USD 1.0 billion',\n",
       " 'USD 106 million',\n",
       " 'USD 12.1 billion',\n",
       " 'USD 61.9 billion',\n",
       " 'USD 14.4 billion',\n",
       " 'USD 7.0 billion',\n",
       " 'USD 26.2 billion',\n",
       " 'USD 6.4 billion',\n",
       " 'USD 5.9 billion',\n",
       " 'USD 62.1 billion',\n",
       " 'USD 66.3 billion',\n",
       " 'USD 9,497 million',\n",
       " 'USD 0.8 billion',\n",
       " 'USD 9.0 billion',\n",
       " 'USD 6.0 billion']"
      ]
     },
     "execution_count": 229,
     "metadata": {},
     "output_type": "execute_result"
    }
   ],
   "source": [
    "out"
   ]
  },
  {
   "cell_type": "code",
   "execution_count": 24,
   "metadata": {},
   "outputs": [
    {
     "data": {
      "text/plain": [
       "50"
      ]
     },
     "execution_count": 24,
     "metadata": {},
     "output_type": "execute_result"
    }
   ],
   "source": [
    "len(report_title)"
   ]
  },
  {
   "cell_type": "code",
   "execution_count": 25,
   "metadata": {},
   "outputs": [
    {
     "data": {
      "text/plain": [
       "['Chatbot Market by Component, Type (Rule Based & AI Based), Application (Customer Service, Customer Engagement & Retention), Channel Integration, Business Function (ITSM, Finance), Vertical, and Region - Global Forecast to 2026',\n",
       " 'Logistics Automation Market by Component, Function (Warehouse and Storage Management, Transportation Management), Organization Size (SMES, Large Enterprises), Vertical (3PL, Retail and Ecommerce, FMCG, Manufacturing), and Region - Global Forecast to 2026',\n",
       " 'Green Data Center Market by Component (Solutions [Power, IT, Cooling] and Services [Design and Consulting, Maintenance and Support, Installation and Deployment]), Data Center Size (Small and Mid-sized, Large), Vertical, and Region -Global Forecast to 2026',\n",
       " 'AI Governance Market by Component (Solutions (Platforms And Software Tools) and Services), Deployment Mode, Organization Size, Vertical (BFSI, Healthcare and Life Sciences, Government and Defense, and Automotive), and Region - Global Forecast to 2026',\n",
       " 'Simulation Software Market by Component (Software (FEA, CFD), Services), Deployment (Cloud, On-premises), Application (Product Engineering, R&D, and Gamification), Vertical (Automobile, Healthcare and Pharmaceuticals), and Region - Global Forecast to 2026',\n",
       " 'Business Process Automation Market by Component, Deployment Type, Organization Size, Business Function (Sales and Marketing, HR, Acoounting and Finance, Supply Chain, Customer Service Support) Vertical, and Region - Global Forecast to 2026',\n",
       " 'Enterprise Architecture Tools Market by Component (Solutions and Services (Managed Services and Professional Services)), Deployment Type, Organization Size, Vertical (BFSI, IT, Manufacturing), and Region - Global Forecast to 2026',\n",
       " 'IoT Professional Services Market by Service Type (IoT Consulting, IoT Infrastructure, System Designing and Integration), Organization Size, Deployment Type, Application (Smart Buildings, Smart Transport and Logistics), and Region - Global Forecast to 2026',\n",
       " 'Wi-Fi Market by Component (Hardware, Solution, and Services), Density (High-density Wi-Fi and Enterprise-class Wi-Fi), Location Type (Indoor and Outdoor), Organization Size, Vertical (Education, Retail and eCommerce), and Region - Global Forecast to 2026',\n",
       " '5G Services Market by End User (Consumers and Enterprises), Enterprise (Manufacturing, Media and Entertainment, Transportation and Logistics, Government), Application, Communication Type (eMBB, MMTC, URLLC, and FWA), and Region - Global Forecast to 2026',\n",
       " 'Enterprise Mobility Management Market by Component, Solution (Mobile Device Management, Mobile Application Management), Deployment Mode, Organization Size, Vertical (BFSI, Manufacturing), and Region - Global Forecast to 2026',\n",
       " 'Customer Journey Analytics Market by Component, Organization Size, Deployment Mode, Data Source, Application (Campaign Management & Product Management), Vertical (BFSI, Retail & eCommerce, & Telecommunications and IT), and Region - Global Forecast to 2026',\n",
       " 'Blockchain IoT Market by Component (Hardware (IoT Sensors & Crypto-Wallets), Software and Platform, and Services), Application (Smart Contract, Security, and Asset Tracking and Management), Organization Size, Vertical, and Region - Global Forecast to 2026',\n",
       " 'Blockchain Supply Chain Market by Offering (Platform, Services), Type (Public, Private, and Hybrid and Consortium), Provider, Application (Asset Tracking, Smart Contracts), Enterprise Size, Vertical (FMGC, Healthcare), and Region - Global Forecast to 2026',\n",
       " 'Enterprise Asset Management Market by Application, Component, Organization Size, Deployment Model, Vertical (Energy and Utilities, Government and Public Sector, Manufacturing, Transportation and Logistics), and Region - Global Forecast to 2026',\n",
       " 'Big Data Security Market by Component, by Software, Deployment Type, Organization Size (Large Enterprise, SMEs), Vertical, and Region (North America, Europe, APAC, MEA, Latin America) - Global Forecast to 2026',\n",
       " 'Automotive Ethernet Market by Component (Hardware, Software, and Services), Type, Bandwidth, Application, Vehicle Type (Passenger Cars, Commercial Vehicles, and Farming and Off-highway Vehicles), and Region - Global Forecast to 2026',\n",
       " 'Natural Language Processing Market by Component, Type (Statistical, Hybrid), Application (Automatic Summarization, Sentiment Analysis, Risk & Threat Detection), Deployment Mode, Organization Size, Vertical, and Region - Global Forecast to 2026',\n",
       " 'Zero Trust Security Market by Solution Type (Data Security, Endpoint Security, API Security, Security Analytics, Security Policy Management), Deployment Type, Authentication Type, Organization Size, Vertical, and Region - Global Forecast to 2026',\n",
       " 'Cloud Security Posture Management Market by Component (Solution and Services), Cloud Model (IaaS and SaaS), Vertical (BFSI, Healthcare, Retail and Trade, IT and Telecommunication, Public Sector, and Education), and Region - Global Forecast to 2026',\n",
       " 'Event Management Software Market by Component (Software (Event Registration and Ticketing, Content Management) and Services), Deployment Type, Organization Size, End User (Event Organizers and Planners, Government), and Region - Global Forecast to 2026',\n",
       " 'Edge AI Software Market by Component (Solutions and Services), Data Source, Application (Autonomous Vehicles, Access Management, Video Surveillance, Remote Monitoring and Predictive Maintenance, and Telemetry), Vertical, and Region - Global Forecast to 2026',\n",
       " '5G Industrial IOT Market by Component (Hardware, Solutions, and Services), Organization Size, Application (Predictive Maintenance, Business Process Optimization), End User (Process Industries and Discrete Industries) and Region - Global Forecast to 2026',\n",
       " '5G Security Market by Component (Solutions (Next-Generation Firewall, Antivirus, DDOS Protection, DLP, Security Gateway) and Services), Network Component Security, Architecture, Deployment Type, End User, Vertical, and Region - Global Forecast to 2026',\n",
       " 'Retail Point of Sale Market by Product (Fixed POS, Mobile POS), Component (Hardware, Software, and Services (eployment & Integration, Support & Maintenance)), End User (Grocery Stores, Specialty Stores, Gas Stations), and Region - Global Forecast to 2026',\n",
       " 'Mass Notification Systems Market by Component (Solutions and Services), Application (Business Continuity and Management), Deployment Mode, Organization Size, Vertical (IT and Telecom, Transportation and Logistics), and Region - Global Forecast to 2026',\n",
       " 'Virtualized Evolved Packet Core (vEPC) Market by Component (Solutions and Services(Professional and Managed)),Deployment Model (Cloud, On-premises),Network Type(4G and 5G) End User(Telecom operators, Enterprises)and Region - Global Forecast to 2026',\n",
       " 'Sales Performance Management Market by Component (Solutions and Services), Organization Size (Large Enterprises and SMEs), Deployment Type (On-premises and Cloud), Vertical (BFSI, Telecommunications, and Manufacturing), and Region - Global Forecast to 2026',\n",
       " 'Perimeter Security Market by Component (Systems (Perimeter Intrusion Detection, Video Surveillance, Access Control, and Alarms and Notification Systems) and Services (Professional and Managed Services)), Vertical, and Region - Global Forecast to 2026',\n",
       " 'Cloud TV Market by Deployment Type (Public Cloud and Private Cloud), Device Type (STBs, and Mobile Phones and Connected TVs), Organization Size, Vertical (Telecom Companies, and Media Organizations and Broadcasters), and Region - Global Forecast to 2026',\n",
       " 'Supply Chain Management Market by Component (Hardware (Barcode and Barcode Scanners and RFID Tags and Readers), Software, and Services), Deployment Mode (Cloud and On-premises), Organization Size, Vertical, and Region - Global Forecast to 2026',\n",
       " 'Sensitive Data Discovery Market by Component, Organization Size, Deployment Mode, Application (Security and Risk Management, Compliance Management, Asset Management), Vertical (BFSI, Healthcare and Life Sciences), and Region - Global Forecast to 2026',\n",
       " 'Partner Relationship Management Market by Component (Solutions (Engage, Collaborate, and Manage) and Services (managed and training, consulting, and integration)), Deployment Type, Organization Size, Vertical, and Region - Global Forecast to 2026',\n",
       " 'Video as a Service Market by Application (Corporate Communication, Training and Development, and Marketing and Client Engagement), Cloud Deployment Mode, Vertical (Healthcare and Life Sciences and BFSI), and Region - Global forecast to 2026',\n",
       " 'Customer Success Platforms Market by Component, Application (Sales and Marketing Optimization, Risk and Compliance Management, Reporting and Analytics), Deployment Mode, Organization Size, Vertical, and Region - Global Forecast to 2025',\n",
       " 'eDiscovery Market by Component (Software (Processing, Review and Analysis, Identification, Preservation and Collection, and Production and Presentation) and Services), Deployment Type, Organization Size, Vertical, and Region - Global Forecast to 2025',\n",
       " 'GNSS Simulators Market by Component Type (Single Channel and Multichannel), GNSS Receiver (GPS, Galileo, GLONASS, and BeiDou), Application (Vehicle Assistance Systems, Location-based Services, and Mapping), Vertical, and Region - Global Forecast to 2025',\n",
       " 'Workplace Safety Market by Component (Hardware, Software, and Services), System, Application (Incident and Emergency Management, Asset Tracking, PPE Detection), Deployment Mode, End-User (Industrial and Commercial), and Region - Global Forecast to 2025',\n",
       " 'Railway Management System Market by Solution (Rail Asset Management, Track Monitoring, Revenue Management, Intelligent Signaling System, Route Planning & Scheduling, PTC, CBTC, PIS, Security & Analytics), Service, and Region - Global Forecast to 2025',\n",
       " 'Content Delivery Network Market by Component (Solutions and Services), Content Type (Static and Dynamic), Provider Type (Traditional CDN, Telco CDN), Application (Media and Entertainment, Online Gaming, Healthcare), and Region - Global Forecast to 2025',\n",
       " 'Data Discovery Market by Component, Functionality, Organization Size, Deployment Mode, Application, Vertical (BFSI, Healthcare and Life Sciences, Telecommunications and IT, Manufacturing), and Region - Global Forecast to 2025',\n",
       " 'Image Recognition Market by Technology (Digital Image Processing, Facial Recognition, Pattern Recognition), Component (Hardware, Software, and Services), Deployment Mode (On-premises & Cloud), Application, Vertical, and Region - Global Forecast to 2025',\n",
       " 'Casino Management Systems Market by Component (Solutions and Services), Application (Accounting, Security and Surveillance, Player Tracking, Hotel and Hospitality, Analytics, and Digital Content Management), End User, and Region - Global Forecast to 2025',\n",
       " 'Cloud Services Brokerage Market by Service Type (Integration & Support, Migration & Customization, and Automation & Orchestration), Platform, Deployment Model, Organization Size, Vertical, and Region, - Global Forecast to 2025',\n",
       " 'A2P Messaging Market by Component (Platform and A2P Service), Application (Authentication, Promotional and Marketing, and CRM), Deployment Mode, SMS Traffic (National and Multi-Country), End User, and Region - Global Forecast to 2025',\n",
       " 'Smart Buildings Market by Component (Solution (Safety and Security Management, Energy Management, Building Infrastructure Management, Network Management, IWMS), Services), Building Type (Residential, Commercial, Industrial), Region - Global Forecast to 2025',\n",
       " '5G Core Market by Component (Solutions and Services), Network Function (Access and Mobility Management Function, Policy Control Function, Unified Data Management), Deployment Model (Cloud and On-premises), End User, and Region - Global Forecast to 2025',\n",
       " 'Agriculture Analytics Market by Application Area (Farm Analytics, Livestock Analytics, and Aquaculture Analytics), Component (Solution and Services), Farm Size (Small, Medium-Sized, and Large), Deployment Type, and Region - Global Forecast to 2025 ',\n",
       " 'Product Information Management (PIM) Market by Component (Solutions and Services), Solution (Multi-mode, and Single-mode), Deployment Type (On-premises and Cloud), Organization Size, Vertical, and Region - Global Forecast to 2025',\n",
       " 'Influencer Marketing Platform Market by Component, Application (Search and Discovery, Campaign Management, Influencer Relationship Management, and Analytics and Reporting), Organization Size, End User, and Region - Global Forecast to 2025']"
      ]
     },
     "execution_count": 25,
     "metadata": {},
     "output_type": "execute_result"
    }
   ],
   "source": [
    "report_title"
   ]
  },
  {
   "cell_type": "code",
   "execution_count": 21,
   "metadata": {},
   "outputs": [],
   "source": [
    "output.to_csv(\"project.csv\")"
   ]
  },
  {
   "cell_type": "code",
   "execution_count": null,
   "metadata": {},
   "outputs": [],
   "source": []
  },
  {
   "cell_type": "code",
   "execution_count": 17,
   "metadata": {},
   "outputs": [],
   "source": [
    "data = {'report_description': report_description, \n",
    "        'report_title': report_title, \n",
    "        'date_published': date_published, \n",
    "        'USD_values': USD_values,\n",
    "        'link': link_} \n",
    "   "
   ]
  },
  {
   "cell_type": "code",
   "execution_count": 18,
   "metadata": {},
   "outputs": [],
   "source": [
    "output = pd.DataFrame(data) "
   ]
  },
  {
   "cell_type": "code",
   "execution_count": 8,
   "metadata": {},
   "outputs": [],
   "source": [
    "link_ = []\n",
    "for i in data.find_all(\"h3\", attrs={\"align\" : \"justify\"}):\n",
    "    for j in i.select(\"a\"):\n",
    "        h = j.get(\"href\")\n",
    "        l = f\"www.marketsandmarkets.com{h}\"\n",
    "        link_.append(l)\n",
    "        \n",
    "    "
   ]
  },
  {
   "cell_type": "code",
   "execution_count": 9,
   "metadata": {},
   "outputs": [
    {
     "data": {
      "text/plain": [
       "50"
      ]
     },
     "execution_count": 9,
     "metadata": {},
     "output_type": "execute_result"
    }
   ],
   "source": [
    "len(link_)"
   ]
  },
  {
   "cell_type": "code",
   "execution_count": 10,
   "metadata": {},
   "outputs": [
    {
     "data": {
      "text/plain": [
       "['www.marketsandmarkets.com/Market-Reports/smart-advisor-market-72302363.html',\n",
       " 'www.marketsandmarkets.com/Market-Reports/logistics-automation-market-83657139.html',\n",
       " 'www.marketsandmarkets.com/Market-Reports/green-data-center-gdc-market-1032.html',\n",
       " 'www.marketsandmarkets.com/Market-Reports/ai-governance-market-176187291.html',\n",
       " 'www.marketsandmarkets.com/Market-Reports/simulation-software-market-263646018.html',\n",
       " 'www.marketsandmarkets.com/Market-Reports/business-process-automation-market-197532385.html',\n",
       " 'www.marketsandmarkets.com/Market-Reports/enterprise-architecture-tools-market-147467618.html',\n",
       " 'www.marketsandmarkets.com/Market-Reports/iot-professional-service-market-93273117.html',\n",
       " 'www.marketsandmarkets.com/Market-Reports/global-wi-fi-market-994.html',\n",
       " 'www.marketsandmarkets.com/Market-Reports/5g-services-market-226908556.html',\n",
       " 'www.marketsandmarkets.com/Market-Reports/enterprise-mobility-management-market-31847012.html',\n",
       " 'www.marketsandmarkets.com/Market-Reports/customer-journey-analytics-market-119398916.html',\n",
       " 'www.marketsandmarkets.com/Market-Reports/blockchain-iot-market-168941858.html',\n",
       " 'www.marketsandmarkets.com/Market-Reports/blockchain-supply-chain-market-90851499.html',\n",
       " 'www.marketsandmarkets.com/Market-Reports/enterprise-asset-management-market-54576143.html',\n",
       " 'www.marketsandmarkets.com/Market-Reports/big-data-security-market-226620117.html',\n",
       " 'www.marketsandmarkets.com/Market-Reports/automotive-ethernet-market-103704247.html',\n",
       " 'www.marketsandmarkets.com/Market-Reports/natural-language-processing-nlp-825.html',\n",
       " 'www.marketsandmarkets.com/Market-Reports/zero-trust-security-market-2782835.html',\n",
       " 'www.marketsandmarkets.com/Market-Reports/cloud-security-posture-management-market-71228949.html',\n",
       " 'www.marketsandmarkets.com/Market-Reports/event-management-software-market-136859992.html',\n",
       " 'www.marketsandmarkets.com/Market-Reports/edge-ai-software-market-70030817.html',\n",
       " 'www.marketsandmarkets.com/Market-Reports/5g-industrial-iot-market-258071167.html',\n",
       " 'www.marketsandmarkets.com/Market-Reports/5g-security-market-261636732.html',\n",
       " 'www.marketsandmarkets.com/Market-Reports/retail-point-of-sale-pos-market-49453884.html',\n",
       " 'www.marketsandmarkets.com/Market-Reports/mass-notification-market-1248.html',\n",
       " 'www.marketsandmarkets.com/Market-Reports/virtualized-evolved-packet-core-market-45409339.html',\n",
       " 'www.marketsandmarkets.com/Market-Reports/sales-performance-management-market-252216710.html',\n",
       " 'www.marketsandmarkets.com/Market-Reports/perimeter-security-market-1311.html',\n",
       " 'www.marketsandmarkets.com/Market-Reports/cloud-tv-market-52443428.html',\n",
       " 'www.marketsandmarkets.com/Market-Reports/supply-chain-management-market-190997554.html',\n",
       " 'www.marketsandmarkets.com/Market-Reports/sensitive-data-discovery-market-191231584.html',\n",
       " 'www.marketsandmarkets.com/Market-Reports/partner-relationship-management-market-9348944.html',\n",
       " 'www.marketsandmarkets.com/Market-Reports/video-as-a-service-market-79429774.html',\n",
       " 'www.marketsandmarkets.com/Market-Reports/customer-success-platforms-market-140271118.html',\n",
       " 'www.marketsandmarkets.com/Market-Reports/e-discovery-market-11881863.html',\n",
       " 'www.marketsandmarkets.com/Market-Reports/gnss-simulators-market-72361781.html',\n",
       " 'www.marketsandmarkets.com/Market-Reports/workplace-safety-market-247399116.html',\n",
       " 'www.marketsandmarkets.com/Market-Reports/railway-management-system-market-193193339.html',\n",
       " 'www.marketsandmarkets.com/Market-Reports/content-delivery-networks-cdn-market-657.html',\n",
       " 'www.marketsandmarkets.com/Market-Reports/data-discovery-market-132252132.html',\n",
       " 'www.marketsandmarkets.com/Market-Reports/image-recognition-market-222404611.html',\n",
       " 'www.marketsandmarkets.com/Market-Reports/casino-management-system-market-1021.html',\n",
       " 'www.marketsandmarkets.com/Market-Reports/cloud-brokerage-market-771.html',\n",
       " 'www.marketsandmarkets.com/Market-Reports/premium-sms-44.html',\n",
       " 'www.marketsandmarkets.com/Market-Reports/smart-building-market-1169.html',\n",
       " 'www.marketsandmarkets.com/Market-Reports/5g-core-market-136573849.html',\n",
       " 'www.marketsandmarkets.com/Market-Reports/agriculture-analytics-market-255757945.html',\n",
       " 'www.marketsandmarkets.com/Market-Reports/product-information-management-market-661489.html',\n",
       " 'www.marketsandmarkets.com/Market-Reports/influencer-marketing-platform-market-294138.html']"
      ]
     },
     "execution_count": 10,
     "metadata": {},
     "output_type": "execute_result"
    }
   ],
   "source": [
    "link_"
   ]
  },
  {
   "cell_type": "code",
   "execution_count": null,
   "metadata": {},
   "outputs": [],
   "source": []
  }
 ],
 "metadata": {
  "kernelspec": {
   "display_name": "Python 3",
   "language": "python",
   "name": "python3"
  },
  "language_info": {
   "codemirror_mode": {
    "name": "ipython",
    "version": 3
   },
   "file_extension": ".py",
   "mimetype": "text/x-python",
   "name": "python",
   "nbconvert_exporter": "python",
   "pygments_lexer": "ipython3",
   "version": "3.8.5"
  }
 },
 "nbformat": 4,
 "nbformat_minor": 4
}
